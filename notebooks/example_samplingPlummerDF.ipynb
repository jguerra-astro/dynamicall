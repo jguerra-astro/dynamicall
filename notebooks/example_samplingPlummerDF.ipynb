{
 "cells": [
  {
   "cell_type": "code",
   "execution_count": 1,
   "metadata": {},
   "outputs": [],
   "source": [
    "%load_ext autoreload\n",
    "%autoreload 2"
   ]
  },
  {
   "cell_type": "code",
   "execution_count": 2,
   "metadata": {},
   "outputs": [],
   "source": [
    "# Imports\n",
    "\n",
    "# third party\n",
    "import jax\n",
    "import jax.numpy as jnp\n",
    "from jax._src.config import config\n",
    "import matplotlib.pyplot as plt \n",
    "config.update(\"jax_enable_x64\", True) #SHOULDN'T NEED THIS ANYMORE -- but just for safety\n",
    "plt.style.use('/Users/juan/phd/matplotlib/jdefault.mplstyle')\n",
    "from astropy.stats import histogram\n",
    "#need to get rid of\n",
    "import numpy as np\n",
    "# project\n",
    "from dynamicAll import models,sampler"
   ]
  },
  {
   "attachments": {},
   "cell_type": "markdown",
   "metadata": {},
   "source": [
    "# Generating Mock data sets"
   ]
  },
  {
   "attachments": {},
   "cell_type": "markdown",
   "metadata": {},
   "source": [
    "There are two cases we consider when generating mock data sets:\n",
    "1. The case in which the stars are drawn from a self-consistent distribution function (DF).\n",
    "2. The case in which their is a distribution of massless tracers (e.g. stars) embedded in a dark matter potential"
   ]
  },
  {
   "attachments": {},
   "cell_type": "markdown",
   "metadata": {},
   "source": [
    "In the first case, we either know the DF for the system or density profile for the stars or the potential.\n",
    "We'll use a self-consistent Plummer sphere DF as an example.\n",
    "\n",
    "This will be useful case since all of the quantities that we're interested in have analytical expressions.\n",
    "\n",
    "The distribution function for a Plummer sphere is given by:\n",
    "$$\n",
    "f(\\mathcal{E}) =\n",
    "\\begin{cases} \\frac{24\\sqrt{2}}{7\\pi^3}\n",
    "\\frac{a^2}{G^5 M^4}(\\mathcal{E})^{7/2} & (\\mathcal{E}>0) \\\\ 0 & (\\mathcal{E} \\leq 0)\\end{cases}\n",
    "$$"
   ]
  },
  {
   "cell_type": "code",
   "execution_count": 10,
   "metadata": {},
   "outputs": [],
   "source": [
    "model_params = {\n",
    "    'M' : 1e5,\n",
    "    'a': 0.5\n",
    "}\n",
    "model = models.Plummer(**model_params)\n",
    "# or:\n",
    "\n",
    "# model = models.Plummer(model_params['M'],model_params['a'])\n",
    "# or:\n",
    "# model = models.plummer(1e5,0.5)"
   ]
  },
  {
   "cell_type": "code",
   "execution_count": 11,
   "metadata": {},
   "outputs": [],
   "source": [
    "samples= model.sample_w_conditional(N=10_000,save=False)"
   ]
  },
  {
   "cell_type": "code",
   "execution_count": 12,
   "metadata": {},
   "outputs": [],
   "source": [
    "x  = samples[:,0]\n",
    "y  = samples[:,1]\n",
    "z  = samples[:,2]\n",
    "vx = samples[:,3]\n",
    "vy = samples[:,4]\n",
    "vz = samples[:,5]\n",
    "r  = np.sqrt(x**2 + y**2 + z**2)\n",
    "vr = (x*vx + y*vy + z*vz)/r\n",
    "v = np.sqrt(vx**2 + vy**2 + vz**2)"
   ]
  },
  {
   "cell_type": "code",
   "execution_count": 13,
   "metadata": {},
   "outputs": [],
   "source": [
    "# for checking purposes\n",
    "def g_q(q):\n",
    "    '''\n",
    "    Probability distribution for q = v/v_esc.\n",
    "\n",
    "    Parameters\n",
    "    ----------\n",
    "    q : _type_\n",
    "        _description_\n",
    "\n",
    "    Returns\n",
    "    -------\n",
    "    _type_\n",
    "        _description_\n",
    "    '''\n",
    "    return q**2*(1-q**2)**(7/2)* (512/(7*np.pi))"
   ]
  },
  {
   "cell_type": "code",
   "execution_count": 14,
   "metadata": {},
   "outputs": [
    {
     "data": {
      "text/plain": [
       "<matplotlib.legend.Legend at 0x16b851c90>"
      ]
     },
     "execution_count": 14,
     "metadata": {},
     "output_type": "execute_result"
    },
    {
     "data": {
      "image/png": "[encoded data removed]",
      "text/plain": [
       "<Figure size 1008x360 with 2 Axes>"
      ]
     },
     "metadata": {
      "needs_background": "light"
     },
     "output_type": "display_data"
    }
   ],
   "source": [
    "fig,ax = plt.subplots(ncols=2,figsize=(14,5))\n",
    "r_test = np.logspace(-2,2,100)\n",
    "N,bin_edges = histogram(r,bins='blocks')\n",
    "r_center = (bin_edges[1:] + bin_edges[:-1])/2\n",
    "q = v/model.v_esc(r)\n",
    "# sanity checks\n",
    "N,vel_edges = histogram(q,bins='blocks')\n",
    "q_test = np.logspace(-2,0,100)\n",
    "\n",
    "\n",
    "ax[0].hist(r,bins=bin_edges,density='True',label='sampling')\n",
    "ax[0].plot(r_test,model.probability(r_test),label='Analytical')\n",
    "ax[0].set(\n",
    "    xscale = 'log',\n",
    "    xlabel = 'r pkpc',\n",
    "    ylabel =r'$pdf(r)$' \n",
    ")\n",
    "\n",
    "\n",
    "\n",
    "ax[1].hist(q,bins=vel_edges,density=True);\n",
    "ax[1].plot(q_test,g_q(q_test))\n",
    "ax[1].set(\n",
    "    xscale='log',\n",
    "    ylim = (0,3),\n",
    "    xlabel=r'$q =\\frac{v}{v_{esc}}(r)$',\n",
    "    ylabel=r'$pdf(q)$'\n",
    ")\n",
    "ax[0].legend()"
   ]
  },
  {
   "attachments": {},
   "cell_type": "markdown",
   "metadata": {},
   "source": [
    "## Now the same thing with a more general sampler that samples from $\\vec{w}$ all at once\n",
    "Given any non-multimodal distribution function we can sample from it using the well known package emcee.\n",
    "Assuming you trust the default values we provide, once you've defined the model as above, the sample_w function is all you need to sample from the distribution function.\n",
    "\n",
    "what acceptance fraction should we have in o"
   ]
  },
  {
   "cell_type": "code",
   "execution_count": 9,
   "metadata": {},
   "outputs": [
    {
     "name": "stderr",
     "output_type": "stream",
     "text": [
      "/opt/homebrew/Caskroom/miniforge/base/envs/py10/lib/python3.10/site-packages/emcee/moves/red_blue.py:99: RuntimeWarning: invalid value encountered in double_scalars\n",
      "  lnpdiff = f + nlp - state.log_prob[j]\n"
     ]
    },
    {
     "name": "stdout",
     "output_type": "stream",
     "text": [
      "Mean acceptance fraction: 0.476\n",
      "Mean autocorrelation time: 88.040 steps\n"
     ]
    }
   ],
   "source": [
    "test_samples = model.sample_w(N=10_000)"
   ]
  },
  {
   "attachments": {},
   "cell_type": "markdown",
   "metadata": {},
   "source": [
    "This will generallly take longer than the conditional sampling, part of that is that by default, it will return 32 chains of N samples -- that can be changed by passing the nwalkers argument to sample_w.\n",
    "\n",
    "Below we compare the results of the two methods by looking at the predicted velocity dispersion profile.\n",
    "\n",
    "In neither case does the sampler know about the velocity dispersion so it seems like a good test of the samplers. \n",
    "You should also look at the mean acceptance fraction and mean autocorrelation time to make sure the sampler is working \"well.\""
   ]
  },
  {
   "cell_type": "code",
   "execution_count": 26,
   "metadata": {},
   "outputs": [],
   "source": [
    "x = test_samples[:,0]\n",
    "y = test_samples[:,1]\n",
    "z = test_samples[:,2]\n",
    "vx = test_samples[:,3]\n",
    "vy = test_samples[:,4]\n",
    "vz = test_samples[:,5]\n",
    "r_test = np.sqrt(x**2 + y**2 + z**2)\n",
    "vr_test = (x*vx + y*vy + z*vz)/r_test"
   ]
  },
  {
   "cell_type": "code",
   "execution_count": 27,
   "metadata": {},
   "outputs": [
    {
     "data": {
      "text/plain": [
       "((320000, 6), (320000,), (320000,))"
      ]
     },
     "execution_count": 27,
     "metadata": {},
     "output_type": "execute_result"
    }
   ],
   "source": [
    "test_samples.shape,r_test.shape,vr_test.shape"
   ]
  },
  {
   "attachments": {},
   "cell_type": "markdown",
   "metadata": {},
   "source": [
    "## compare velocity dispersions"
   ]
  },
  {
   "cell_type": "code",
   "execution_count": 28,
   "metadata": {},
   "outputs": [],
   "source": [
    "from astropy.stats import histogram\n",
    "from scipy.stats import binned_statistic\n",
    "meanv,_,bin_numbers  = binned_statistic(r,vr,'mean',bins=bin_edges)\n",
    "mu,_,bin_numbers   = binned_statistic(r,vr**2,'mean',bins=bin_edges)"
   ]
  },
  {
   "cell_type": "code",
   "execution_count": 29,
   "metadata": {},
   "outputs": [],
   "source": [
    "meanv2,_,bin_numbers = binned_statistic(r_test,vr_test,'mean',bins=bin_edges)\n",
    "mu2,_,bin_numbers    = binned_statistic(r_test,vr_test**2,'mean',bins=bin_edges)"
   ]
  },
  {
   "cell_type": "code",
   "execution_count": 30,
   "metadata": {},
   "outputs": [
    {
     "data": {
      "text/plain": [
       "<matplotlib.legend.Legend at 0x28bf78460>"
      ]
     },
     "execution_count": 30,
     "metadata": {},
     "output_type": "execute_result"
    },
    {
     "data": {
      "image/png": "[encoded data removed]",
      "text/plain": [
       "<Figure size 432x288 with 1 Axes>"
      ]
     },
     "metadata": {
      "needs_background": "light"
     },
     "output_type": "display_data"
    }
   ],
   "source": [
    "def dispersion(r,M,a):\n",
    "    G = 4.300917270036279e-06 #kpc km^2 s^-2 Msun^-1\n",
    "    return G*M/(6*np.sqrt(r**2 + a**2))\n",
    "\n",
    "fig,ax = plt.subplots()\n",
    "ax.step(r_center,np.sqrt(mu- meanv**2),\n",
    "        where = 'mid',\n",
    "        label = 'Conditional sampling'\n",
    "        )\n",
    "ax.step(r_center,np.sqrt(mu2- meanv2**2),\n",
    "        where = 'mid',\n",
    "        label = 'sampled with emcee'\n",
    "        )\n",
    "ax.plot(r_center,np.sqrt(dispersion(r_center,model._M,model._a)),\n",
    "        label='True')\n",
    "ax.set(\n",
    "    xscale='log',\n",
    "    xlabel = 'r [kpc]',\n",
    "    ylabel =r'$\\sigma_r(r)$ [km/s]',\n",
    "    # ylim = (0,1),\n",
    ")\n",
    "ax.legend()\n"
   ]
  },
  {
   "attachments": {},
   "cell_type": "markdown",
   "metadata": {},
   "source": [
    "It seems like we got a good match between the two methods.\n",
    "there will always be some differences due to counting, and unlucky rng draws, but the two methods should be consistent.\n",
    "The emcee sampler should better fit the true curve since its using n_chains*n_steps draws so it'll be more stable than the conditional sampler. \n",
    "\n",
    "However if we sample from the samples -- which we can do with just a by drawing uniformly from the flat-chain, we can get smaller subsamples\n",
    "Drawing randomly from these is a quicker way to generate smaller sub-samples"
   ]
  },
  {
   "cell_type": "code",
   "execution_count": 42,
   "metadata": {},
   "outputs": [
    {
     "data": {
      "text/plain": [
       "<matplotlib.legend.Legend at 0x291e9a1a0>"
      ]
     },
     "execution_count": 42,
     "metadata": {},
     "output_type": "execute_result"
    },
    {
     "data": {
      "image/png": "[encoded data removed]",
      "text/plain": [
       "<Figure size 432x288 with 1 Axes>"
      ]
     },
     "metadata": {
      "needs_background": "light"
     },
     "output_type": "display_data"
    }
   ],
   "source": [
    "x = np.random.randint(0,320_000,10_000)\n",
    "meanv2,_,bin_numbers = binned_statistic(r_test[x],vr_test[x],'mean',bins=bin_edges)\n",
    "mu2,_,bin_numbers    = binned_statistic(r_test[x],vr_test[x]**2,'mean',bins=bin_edges)\n",
    "\n",
    "\n",
    "fig,ax = plt.subplots()\n",
    "ax.step(r_center,np.sqrt(mu- meanv**2),\n",
    "        where = 'mid',\n",
    "        label = 'Conditional sampling'\n",
    "        )\n",
    "ax.step(r_center,np.sqrt(mu2- meanv2**2),\n",
    "        where = 'mid',\n",
    "        label = 'sampled with emcee'\n",
    "        )\n",
    "ax.plot(r_center,np.sqrt(dispersion(r_center,model._M,model._a)),\n",
    "        label='True')\n",
    "ax.set(\n",
    "    xscale='log',\n",
    "    xlabel = 'r [kpc]',\n",
    "    ylabel =r'$\\sigma_r(r)$ [km/s]',\n",
    "    # ylim = (0,1),\n",
    ")\n",
    "ax.legend()"
   ]
  },
  {
   "cell_type": "code",
   "execution_count": null,
   "metadata": {},
   "outputs": [],
   "source": []
  }
 ],
 "metadata": {
  "kernelspec": {
   "display_name": "py10",
   "language": "python",
   "name": "python3"
  },
  "language_info": {
   "codemirror_mode": {
    "name": "ipython",
    "version": 3
   },
   "file_extension": ".py",
   "mimetype": "text/x-python",
   "name": "python",
   "nbconvert_exporter": "python",
   "pygments_lexer": "ipython3",
   "version": "3.10.4"
  },
  "orig_nbformat": 4
 },
 "nbformat": 4,
 "nbformat_minor": 2
}
