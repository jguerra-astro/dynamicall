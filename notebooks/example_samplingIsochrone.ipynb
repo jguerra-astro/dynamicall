{
 "cells": [
  {
   "cell_type": "code",
   "execution_count": 220,
   "metadata": {},
   "outputs": [
    {
     "name": "stdout",
     "output_type": "stream",
     "text": [
      "The autoreload extension is already loaded. To reload it, use:\n",
      "  %reload_ext autoreload\n"
     ]
    }
   ],
   "source": [
    "%load_ext autoreload\n",
    "%autoreload 2"
   ]
  },
  {
   "cell_type": "code",
   "execution_count": 221,
   "metadata": {},
   "outputs": [],
   "source": [
    "# Imports\n",
    "\n",
    "# third party\n",
    "import jax\n",
    "import jax.numpy as jnp\n",
    "from jax._src.config import config\n",
    "import matplotlib.pyplot as plt \n",
    "config.update(\"jax_enable_x64\", True) #SHOULDN'T NEED THIS ANYMORE -- but just for safety\n",
    "plt.style.use('/Users/juan/phd/matplotlib/jdefault.mplstyle')\n",
    "from astropy.stats import histogram\n",
    "#need to get rid of\n",
    "import numpy as np\n",
    "# project\n",
    "from dynamicAll import models,sampler"
   ]
  },
  {
   "attachments": {},
   "cell_type": "markdown",
   "metadata": {},
   "source": [
    "## Isochrone"
   ]
  },
  {
   "cell_type": "code",
   "execution_count": 222,
   "metadata": {},
   "outputs": [],
   "source": [
    "model_params = {\n",
    "    'M' : 1e5,\n",
    "    'b': 0.5\n",
    "}\n",
    "model = models.Isochrone(**model_params)"
   ]
  },
  {
   "attachments": {},
   "cell_type": "markdown",
   "metadata": {},
   "source": [
    "## Use general sampler that samples from $\\vec{w}$ all at once"
   ]
  },
  {
   "cell_type": "code",
   "execution_count": 223,
   "metadata": {},
   "outputs": [
    {
     "name": "stderr",
     "output_type": "stream",
     "text": [
      "  0%|          | 0/10000 [00:00<?, ?it/s]/opt/homebrew/Caskroom/miniforge/base/envs/py10/lib/python3.10/site-packages/emcee/moves/red_blue.py:99: RuntimeWarning: invalid value encountered in double_scalars\n",
      "  lnpdiff = f + nlp - state.log_prob[j]\n",
      "100%|██████████| 10000/10000 [00:59<00:00, 168.72it/s]\n",
      "100%|██████████| 10000/10000 [00:59<00:00, 168.86it/s]\n"
     ]
    }
   ],
   "source": [
    "test_samples = model.sample_w(N=10_000)"
   ]
  },
  {
   "attachments": {},
   "cell_type": "markdown",
   "metadata": {},
   "source": [
    "This will generallly take longer than the conditional sampling, part of that is that by default, it will return 32 chains of N samples -- that can be changed by passing the nwalkers argument to sample_w.\n",
    "\n",
    "Below we compare the results of the two methods by looking at the predicted velocity dispersion profile.\n",
    "\n",
    "In neither case does the sampler know about the velocity dispersion so it seems like a good test of the samplers. \n",
    "You should also look at the mean acceptance fraction and mean autocorrelation time to make sure the sampler is working \"well.\""
   ]
  },
  {
   "cell_type": "code",
   "execution_count": 227,
   "metadata": {},
   "outputs": [],
   "source": [
    "x = test_samples[:,0]\n",
    "y = test_samples[:,1]\n",
    "z = test_samples[:,2]\n",
    "vx = test_samples[:,3]\n",
    "vy = test_samples[:,4]\n",
    "vz = test_samples[:,5]\n",
    "r = np.sqrt(x**2 + y**2 + z**2)\n",
    "vr = (x*vx + y*vy + z*vz)/r"
   ]
  },
  {
   "cell_type": "code",
   "execution_count": 231,
   "metadata": {},
   "outputs": [],
   "source": [
    "q = np.random.randint(0,320_000,10_000)\n",
    "N,bin_edges = histogram(r[q],bins='blocks')\n",
    "r_center = (bin_edges[1:] + bin_edges[:-1])/2\n",
    "meanv2,_,bin_numbers = binned_statistic(r[q],vr[q],'mean',bins=bin_edges)\n",
    "mu2,_,bin_numbers    = binned_statistic(r[q],vr[q]**2,'mean',bins=bin_edges)\n",
    "meanv2_tot,_,bin_numbers = binned_statistic(r,vr,'mean',bins=bin_edges)\n",
    "mu2_tot,_,bin_numbers    = binned_statistic(r,vr**2,'mean',bins=bin_edges)"
   ]
  },
  {
   "cell_type": "code",
   "execution_count": 232,
   "metadata": {},
   "outputs": [
    {
     "name": "stderr",
     "output_type": "stream",
     "text": [
      "/var/folders/fs/60cg8qcd6gj8mwglqf70fhm40000gn/T/ipykernel_76701/1330375967.py:3: RuntimeWarning: invalid value encountered in sqrt\n",
      "  ax.step(r_center,np.sqrt(mu2 - meanv2**2),\n"
     ]
    },
    {
     "data": {
      "text/plain": [
       "[None,\n",
       " Text(0.5, 0, 'r [kpc]'),\n",
       " Text(0, 0.5, '$\\\\sigma_r(r)$ [km/s]'),\n",
       " (0.0, 1.0)]"
      ]
     },
     "execution_count": 232,
     "metadata": {},
     "output_type": "execute_result"
    },
    {
     "data": {
      "image/png": "[encoded data removed]",
      "text/plain": [
       "<Figure size 600x400 with 1 Axes>"
      ]
     },
     "metadata": {},
     "output_type": "display_data"
    }
   ],
   "source": [
    "fig,ax = plt.subplots()\n",
    "\n",
    "ax.step(r_center,np.sqrt(mu2 - meanv2**2),\n",
    "        where = 'mid',\n",
    "        label = 'sampled with emcee'\n",
    "        )\n",
    "ax.step(r_center,np.sqrt(mu2_tot - meanv2_tot**2),\n",
    "        where = 'mid',\n",
    "        label = 'sampled with emcee'\n",
    "        )\n",
    "\n",
    "ax.set(\n",
    "    xscale='log',\n",
    "    xlabel = 'r [kpc]',\n",
    "    ylabel =r'$\\sigma_r(r)$ [km/s]',\n",
    "    ylim = (0,1),\n",
    ")\n",
    "# ax.plot(r_center,np.sqrt(model.dispersion(r_center)))\n",
    "# ax.legend()"
   ]
  },
  {
   "attachments": {},
   "cell_type": "markdown",
   "metadata": {},
   "source": [
    "## compare velocity dispersions"
   ]
  },
  {
   "attachments": {},
   "cell_type": "markdown",
   "metadata": {},
   "source": [
    "It seems like we got a good match between the two methods.\n",
    "there will always be some differences due to counting, and unlucky rng draws, but the two methods should be consistent.\n",
    "The emcee sampler should better fit the true curve since its using n_chains*n_steps draws so it'll be more stable than the conditional sampler. \n",
    "\n",
    "However if we sample from the samples -- which we can do with just a by drawing uniformly from the flat-chain, we can get smaller subsamples\n",
    "Drawing randomly from these is a quicker way to generate smaller sub-samples"
   ]
  },
  {
   "cell_type": "markdown",
   "metadata": {},
   "source": [
    "## Hernquist "
   ]
  },
  {
   "cell_type": "code",
   "execution_count": 236,
   "metadata": {},
   "outputs": [],
   "source": [
    "model_params = {\n",
    "    'M' : 1e5,\n",
    "    'a': 0.5\n",
    "}\n",
    "model = models.Hernquist(**model_params)"
   ]
  },
  {
   "cell_type": "code",
   "execution_count": 237,
   "metadata": {},
   "outputs": [
    {
     "name": "stderr",
     "output_type": "stream",
     "text": [
      "100%|██████████| 10000/10000 [01:03<00:00, 156.69it/s]\n",
      "100%|██████████| 10000/10000 [01:04<00:00, 155.96it/s]\n"
     ]
    }
   ],
   "source": [
    "samples = model.sample_w(N=10_000)"
   ]
  },
  {
   "cell_type": "code",
   "execution_count": 238,
   "metadata": {},
   "outputs": [],
   "source": [
    "x = samples[:,0]\n",
    "y = samples[:,1]\n",
    "z = samples[:,2]\n",
    "vx = samples[:,3]\n",
    "vy = samples[:,4]\n",
    "vz = samples[:,5]\n",
    "r = np.sqrt(x**2 + y**2 + z**2)\n",
    "vr = (x*vx + y*vy + z*vz)/r"
   ]
  },
  {
   "cell_type": "code",
   "execution_count": 239,
   "metadata": {},
   "outputs": [],
   "source": [
    "# q = np.random.randint(0,320_000,10_000)\n",
    "q = np.random.choice(320_000,10_000)  # Is this the best way to do this??\n",
    "N,bin_edges = histogram(r[q],bins='blocks')\n",
    "r_center = (bin_edges[1:] + bin_edges[:-1])/2\n",
    "meanv2,_,bin_numbers = binned_statistic(r[q],vr[q],'mean',bins=bin_edges)\n",
    "mu2,_,bin_numbers    = binned_statistic(r[q],vr[q]**2,'mean',bins=bin_edges)\n",
    "meanv2_tot,_,bin_numbers = binned_statistic(r,vr,'mean',bins=bin_edges)\n",
    "mu2_tot,_,bin_numbers    = binned_statistic(r,vr**2,'mean',bins=bin_edges)"
   ]
  },
  {
   "cell_type": "code",
   "execution_count": 240,
   "metadata": {},
   "outputs": [
    {
     "name": "stderr",
     "output_type": "stream",
     "text": [
      "/var/folders/fs/60cg8qcd6gj8mwglqf70fhm40000gn/T/ipykernel_76701/2443395449.py:3: RuntimeWarning: invalid value encountered in sqrt\n",
      "  ax.step(r_center,np.sqrt(mu2 - meanv2**2),\n"
     ]
    },
    {
     "data": {
      "text/plain": [
       "[<matplotlib.lines.Line2D at 0x2c9396050>]"
      ]
     },
     "execution_count": 240,
     "metadata": {},
     "output_type": "execute_result"
    },
    {
     "data": {
      "image/png": "[encoded data removed]",
      "text/plain": [
       "<Figure size 600x400 with 1 Axes>"
      ]
     },
     "metadata": {},
     "output_type": "display_data"
    }
   ],
   "source": [
    "fig,ax = plt.subplots()\n",
    "\n",
    "ax.step(r_center,np.sqrt(mu2 - meanv2**2),\n",
    "        where = 'mid',\n",
    "        label = 'sampled with emcee'\n",
    "        )\n",
    "ax.step(r_center,np.sqrt(mu2_tot - meanv2_tot**2),\n",
    "        where = 'mid',\n",
    "        label = 'sampled with emcee'\n",
    "        )\n",
    "\n",
    "ax.set(\n",
    "    xscale='log',\n",
    "    xlabel = 'r [kpc]',\n",
    "    ylabel =r'$\\sigma_r(r)$ [km/s]',\n",
    "    ylim = (0,1),\n",
    ")\n",
    "ax.plot(r_center,np.sqrt(model.dispersion(r_center)))\n",
    "# ax.legend()"
   ]
  },
  {
   "cell_type": "code",
   "execution_count": null,
   "metadata": {},
   "outputs": [],
   "source": []
  },
  {
   "cell_type": "code",
   "execution_count": null,
   "metadata": {},
   "outputs": [],
   "source": []
  }
 ],
 "metadata": {
  "kernelspec": {
   "display_name": "py10",
   "language": "python",
   "name": "python3"
  },
  "language_info": {
   "codemirror_mode": {
    "name": "ipython",
    "version": 3
   },
   "file_extension": ".py",
   "mimetype": "text/x-python",
   "name": "python",
   "nbconvert_exporter": "python",
   "pygments_lexer": "ipython3",
   "version": "3.10.4"
  },
  "orig_nbformat": 4
 },
 "nbformat": 4,
 "nbformat_minor": 2
}
