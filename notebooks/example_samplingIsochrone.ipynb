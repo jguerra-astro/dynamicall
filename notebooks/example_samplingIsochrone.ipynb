{
 "cells": [
  {
   "cell_type": "code",
   "execution_count": 20,
   "metadata": {},
   "outputs": [
    {
     "name": "stdout",
     "output_type": "stream",
     "text": [
      "The autoreload extension is already loaded. To reload it, use:\n",
      "  %reload_ext autoreload\n"
     ]
    }
   ],
   "source": [
    "%load_ext autoreload\n",
    "%autoreload 2\n"
   ]
  },
  {
   "cell_type": "code",
   "execution_count": 39,
   "metadata": {},
   "outputs": [],
   "source": [
    "# Imports\n",
    "\n",
    "# third party\n",
    "import jax\n",
    "import jax.numpy as jnp\n",
    "from jax._src.config import config\n",
    "import matplotlib.pyplot as plt \n",
    "config.update(\"jax_enable_x64\", True) #SHOULDN'T NEED THIS ANYMORE -- but just for safety\n",
    "plt.style.use('/Users/juan/phd/matplotlib/jdefault.mplstyle')\n",
    "from astropy.stats import histogram\n",
    "#need to get rid of\n",
    "import numpy as np\n",
    "# project\n",
    "from dynamicAll import models,sampler\n",
    "from scipy.stats import binned_statistic"
   ]
  },
  {
   "attachments": {},
   "cell_type": "markdown",
   "metadata": {},
   "source": [
    "## Isochrone"
   ]
  },
  {
   "cell_type": "code",
   "execution_count": 5,
   "metadata": {},
   "outputs": [],
   "source": [
    "model_params = {\n",
    "    'M' : 1e9,\n",
    "    'b': 0.5\n",
    "}\n",
    "model = models.Isochrone(**model_params)"
   ]
  },
  {
   "cell_type": "code",
   "execution_count": 6,
   "metadata": {},
   "outputs": [],
   "source": [
    "nwalkers =323 \n",
    "r_temp = np.logspace(-3,1,nwalkers)\n",
    "# print(r_temp.shape)\n",
    "v_temp = model.v_circ(r_temp)\n",
    "\n",
    "x,y,z = model.spherical_to_cartesian(r_temp)\n",
    "vx,vy,vz = model.spherical_to_cartesian(v_temp) "
   ]
  },
  {
   "cell_type": "code",
   "execution_count": 7,
   "metadata": {},
   "outputs": [],
   "source": [
    "ndim = 6\n",
    "p0 = np.array([x,y,z,vx,vy,vz]).reshape(nwalkers,ndim)"
   ]
  },
  {
   "cell_type": "code",
   "execution_count": 8,
   "metadata": {},
   "outputs": [
    {
     "name": "stdout",
     "output_type": "stream",
     "text": [
      "-8601.83454007256\n"
     ]
    }
   ],
   "source": [
    "G = 4.300917270036279e-06\n",
    "print(-G*model_params['M']/model_params['b'])"
   ]
  },
  {
   "cell_type": "code",
   "execution_count": 9,
   "metadata": {},
   "outputs": [],
   "source": [
    "def df(w):\n",
    "    x = w[:3]\n",
    "    v = w[3:]\n",
    "    r = np.linalg.norm(x)\n",
    "    print(r)\n",
    "    E = model.potential(r) + 0.5*np.dot(v,v)\n",
    "    print(E)\n",
    "    return model.logDF(E)"
   ]
  },
  {
   "cell_type": "code",
   "execution_count": 10,
   "metadata": {},
   "outputs": [
    {
     "name": "stdout",
     "output_type": "stream",
     "text": [
      "0.0016111513175006073\n",
      "-4300.906105076206\n"
     ]
    },
    {
     "data": {
      "text/plain": [
       "Array(4.15778094, dtype=float64)"
      ]
     },
     "execution_count": 10,
     "metadata": {},
     "output_type": "execute_result"
    }
   ],
   "source": [
    "df(p0[0])"
   ]
  },
  {
   "attachments": {},
   "cell_type": "markdown",
   "metadata": {},
   "source": [
    "## Use general sampler that samples from $\\vec{w}$ all at once"
   ]
  },
  {
   "cell_type": "code",
   "execution_count": 14,
   "metadata": {},
   "outputs": [
    {
     "name": "stderr",
     "output_type": "stream",
     "text": [
      "100%|██████████| 10000/10000 [01:26<00:00, 115.21it/s]\n",
      "100%|██████████| 10000/10000 [01:25<00:00, 117.09it/s]\n"
     ]
    }
   ],
   "source": [
    "test_samples = model.sample_w(N=10_000)"
   ]
  },
  {
   "attachments": {},
   "cell_type": "markdown",
   "metadata": {},
   "source": [
    "This will generallly take longer than the conditional sampling, part of that is that by default, it will return 32 chains of N samples -- that can be changed by passing the nwalkers argument to sample_w.\n",
    "\n",
    "Below we compare the results of the two methods by looking at the predicted velocity dispersion profile.\n",
    "\n",
    "In neither case does the sampler know about the velocity dispersion so it seems like a good test of the samplers. \n",
    "You should also look at the mean acceptance fraction and mean autocorrelation time to make sure the sampler is working \"well.\""
   ]
  },
  {
   "cell_type": "code",
   "execution_count": 12,
   "metadata": {},
   "outputs": [],
   "source": [
    "x = test_samples[:,0]\n",
    "y = test_samples[:,1]\n",
    "z = test_samples[:,2]\n",
    "vx = test_samples[:,3]\n",
    "vy = test_samples[:,4]\n",
    "vz = test_samples[:,5]\n",
    "r = np.sqrt(x**2 + y**2 + z**2)\n",
    "vr = (x*vx + y*vy + z*vz)/r"
   ]
  },
  {
   "cell_type": "code",
   "execution_count": 13,
   "metadata": {},
   "outputs": [
    {
     "ename": "IndexError",
     "evalue": "index 56909 is out of bounds for axis 0 with size 32000",
     "output_type": "error",
     "traceback": [
      "\u001b[0;31m---------------------------------------------------------------------------\u001b[0m",
      "\u001b[0;31mIndexError\u001b[0m                                Traceback (most recent call last)",
      "\u001b[1;32m/Users/juan/phd/projects/dynamicAll/notebooks/example_samplingIsochrone.ipynb Cell 14\u001b[0m in \u001b[0;36m<cell line: 2>\u001b[0;34m()\u001b[0m\n\u001b[1;32m      <a href='vscode-notebook-cell:/Users/juan/phd/projects/dynamicAll/notebooks/example_samplingIsochrone.ipynb#X11sZmlsZQ%3D%3D?line=0'>1</a>\u001b[0m q \u001b[39m=\u001b[39m np\u001b[39m.\u001b[39mrandom\u001b[39m.\u001b[39mrandint(\u001b[39m0\u001b[39m,\u001b[39m320_000\u001b[39m,\u001b[39m10_000\u001b[39m)\n\u001b[0;32m----> <a href='vscode-notebook-cell:/Users/juan/phd/projects/dynamicAll/notebooks/example_samplingIsochrone.ipynb#X11sZmlsZQ%3D%3D?line=1'>2</a>\u001b[0m N,bin_edges \u001b[39m=\u001b[39m histogram(r[q],bins\u001b[39m=\u001b[39m\u001b[39m'\u001b[39m\u001b[39mblocks\u001b[39m\u001b[39m'\u001b[39m)\n\u001b[1;32m      <a href='vscode-notebook-cell:/Users/juan/phd/projects/dynamicAll/notebooks/example_samplingIsochrone.ipynb#X11sZmlsZQ%3D%3D?line=2'>3</a>\u001b[0m r_center \u001b[39m=\u001b[39m (bin_edges[\u001b[39m1\u001b[39m:] \u001b[39m+\u001b[39m bin_edges[:\u001b[39m-\u001b[39m\u001b[39m1\u001b[39m])\u001b[39m/\u001b[39m\u001b[39m2\u001b[39m\n\u001b[1;32m      <a href='vscode-notebook-cell:/Users/juan/phd/projects/dynamicAll/notebooks/example_samplingIsochrone.ipynb#X11sZmlsZQ%3D%3D?line=3'>4</a>\u001b[0m meanv2,_,bin_numbers \u001b[39m=\u001b[39m binned_statistic(r[q],vr[q],\u001b[39m'\u001b[39m\u001b[39mmean\u001b[39m\u001b[39m'\u001b[39m,bins\u001b[39m=\u001b[39mbin_edges)\n",
      "\u001b[0;31mIndexError\u001b[0m: index 56909 is out of bounds for axis 0 with size 32000"
     ]
    }
   ],
   "source": [
    "q = np.random.randint(0,320_000,10_000)\n",
    "N,bin_edges = histogram(r[q],bins='blocks')\n",
    "r_center = (bin_edges[1:] + bin_edges[:-1])/2\n",
    "meanv2,_,bin_numbers = binned_statistic(r[q],vr[q],'mean',bins=bin_edges)\n",
    "mu2,_,bin_numbers    = binned_statistic(r[q],vr[q]**2,'mean',bins=bin_edges)\n",
    "meanv2_tot,_,bin_numbers = binned_statistic(r,vr,'mean',bins=bin_edges)\n",
    "mu2_tot,_,bin_numbers    = binned_statistic(r,vr**2,'mean',bins=bin_edges)"
   ]
  },
  {
   "cell_type": "code",
   "execution_count": null,
   "metadata": {},
   "outputs": [],
   "source": [
    "fig,ax = plt.subplots(1,2)"
   ]
  },
  {
   "cell_type": "code",
   "execution_count": 232,
   "metadata": {},
   "outputs": [
    {
     "name": "stderr",
     "output_type": "stream",
     "text": [
      "/var/folders/fs/60cg8qcd6gj8mwglqf70fhm40000gn/T/ipykernel_76701/1330375967.py:3: RuntimeWarning: invalid value encountered in sqrt\n",
      "  ax.step(r_center,np.sqrt(mu2 - meanv2**2),\n"
     ]
    },
    {
     "data": {
      "text/plain": [
       "[None,\n",
       " Text(0.5, 0, 'r [kpc]'),\n",
       " Text(0, 0.5, '$\\\\sigma_r(r)$ [km/s]'),\n",
       " (0.0, 1.0)]"
      ]
     },
     "execution_count": 232,
     "metadata": {},
     "output_type": "execute_result"
    },
    {
     "data": {
      "image/png": "[encoded data removed]",
      "text/plain": [
       "<Figure size 600x400 with 1 Axes>"
      ]
     },
     "metadata": {},
     "output_type": "display_data"
    }
   ],
   "source": [
    "fig,ax = plt.subplots()\n",
    "\n",
    "ax.step(r_center,np.sqrt(mu2 - meanv2**2),\n",
    "        where = 'mid',\n",
    "        label = 'sampled with emcee'\n",
    "        )\n",
    "ax.step(r_center,np.sqrt(mu2_tot - meanv2_tot**2),\n",
    "        where = 'mid',\n",
    "        label = 'sampled with emcee'\n",
    "        )\n",
    "\n",
    "ax.set(\n",
    "    xscale='log',\n",
    "    xlabel = 'r [kpc]',\n",
    "    ylabel =r'$\\sigma_r(r)$ [km/s]',\n",
    "    ylim = (0,1),\n",
    ")\n",
    "# ax.plot(r_center,np.sqrt(model.dispersion(r_center)))\n",
    "# ax.legend()"
   ]
  },
  {
   "attachments": {},
   "cell_type": "markdown",
   "metadata": {},
   "source": [
    "## compare velocity dispersions"
   ]
  },
  {
   "attachments": {},
   "cell_type": "markdown",
   "metadata": {},
   "source": [
    "It seems like we got a good match between the two methods.\n",
    "there will always be some differences due to counting, and unlucky rng draws, but the two methods should be consistent.\n",
    "The emcee sampler should better fit the true curve since its using n_chains*n_steps draws so it'll be more stable than the conditional sampler. \n",
    "\n",
    "However if we sample from the samples -- which we can do with just a by drawing uniformly from the flat-chain, we can get smaller subsamples\n",
    "Drawing randomly from these is a quicker way to generate smaller sub-samples"
   ]
  },
  {
   "cell_type": "markdown",
   "metadata": {},
   "source": [
    "## Hernquist "
   ]
  },
  {
   "cell_type": "code",
   "execution_count": 15,
   "metadata": {},
   "outputs": [],
   "source": [
    "model_params = {\n",
    "    'M' : 1e5,\n",
    "    'a': 0.5\n",
    "}\n",
    "model = models.Hernquist(**model_params)"
   ]
  },
  {
   "cell_type": "code",
   "execution_count": 16,
   "metadata": {},
   "outputs": [
    {
     "name": "stderr",
     "output_type": "stream",
     "text": [
      "100%|██████████| 10000/10000 [00:57<00:00, 172.76it/s]\n",
      "100%|██████████| 10000/10000 [01:00<00:00, 164.87it/s]\n"
     ]
    }
   ],
   "source": [
    "samples = model.sample_w(N=10_000)"
   ]
  },
  {
   "cell_type": "code",
   "execution_count": 17,
   "metadata": {},
   "outputs": [],
   "source": [
    "x = samples[:,0]\n",
    "y = samples[:,1]\n",
    "z = samples[:,2]\n",
    "vx = samples[:,3]\n",
    "vy = samples[:,4]\n",
    "vz = samples[:,5]\n",
    "r = np.sqrt(x**2 + y**2 + z**2)\n",
    "vr = (x*vx + y*vy + z*vz)/r"
   ]
  },
  {
   "cell_type": "code",
   "execution_count": 24,
   "metadata": {},
   "outputs": [],
   "source": [
    "# q = np.random.randint(0,320_000,10_000)\n",
    "q = np.random.choice(320_000,10_000)  # Is this the best way to do this??\n",
    "N,bin_edges = histogram(r[q],bins='blocks')\n",
    "r_center = (bin_edges[1:] + bin_edges[:-1])/2\n",
    "meanv2,_,bin_numbers = binned_statistic(r[q],vr[q],'mean',bins=bin_edges)\n",
    "mu2,_,bin_numbers    = binned_statistic(r[q],vr[q]**2,'mean',bins=bin_edges)\n",
    "meanv2_tot,_,bin_numbers = binned_statistic(r,vr,'mean',bins=bin_edges)\n",
    "mu2_tot,_,bin_numbers    = binned_statistic(r,vr**2,'mean',bins=bin_edges)"
   ]
  },
  {
   "cell_type": "markdown",
   "metadata": {},
   "source": []
  },
  {
   "cell_type": "code",
   "execution_count": 40,
   "metadata": {},
   "outputs": [
    {
     "data": {
      "text/plain": [
       "[None, (0.0, 1.0), Text(0.5, 0, 'r [kpc]'), Text(0, 0.5, 'pdf(r)')]"
      ]
     },
     "execution_count": 40,
     "metadata": {},
     "output_type": "execute_result"
    },
    {
     "data": {
      "image/png": "[encoded data removed]",
      "text/plain": [
       "<Figure size 600x400 with 1 Axes>"
      ]
     },
     "metadata": {},
     "output_type": "display_data"
    }
   ],
   "source": [
    "r_temp = np.logspace(-2,1,100)\n",
    "fig,ax = plt.subplots()\n",
    "ax.hist(r,bins=bin_edges,density=True)\n",
    "ax.plot(r_temp,model.pdf_r(r_temp))\n",
    "ax.set(\n",
    "    xscale='log',\n",
    "    ylim=[0,1],\n",
    "    xlabel = 'r [kpc]',\n",
    "    ylabel =r'pdf(r)'\n",
    ")"
   ]
  },
  {
   "cell_type": "code",
   "execution_count": 27,
   "metadata": {},
   "outputs": [
    {
     "name": "stderr",
     "output_type": "stream",
     "text": [
      "/var/folders/fs/60cg8qcd6gj8mwglqf70fhm40000gn/T/ipykernel_76143/4053917976.py:3: RuntimeWarning: invalid value encountered in sqrt\n",
      "  ax.step(r_center,np.sqrt(mu2 - meanv2**2),\n"
     ]
    },
    {
     "data": {
      "text/plain": [
       "<matplotlib.legend.Legend at 0x28d11b7f0>"
      ]
     },
     "execution_count": 27,
     "metadata": {},
     "output_type": "execute_result"
    },
    {
     "data": {
      "image/png": "[encoded data removed]",
      "text/plain": [
       "<Figure size 432x288 with 1 Axes>"
      ]
     },
     "metadata": {
      "needs_background": "light"
     },
     "output_type": "display_data"
    }
   ],
   "source": [
    "fig,ax = plt.subplots()\n",
    "\n",
    "ax.step(r_center,np.sqrt(mu2 - meanv2**2),\n",
    "        where = 'mid',\n",
    "        label = 'sampled with emcee'\n",
    "        )\n",
    "ax.step(r_center,np.sqrt(mu2_tot - meanv2_tot**2),\n",
    "        where = 'mid',\n",
    "        label = 'sampled with emcee'\n",
    "        )\n",
    "\n",
    "ax.set(\n",
    "    xscale='log',\n",
    "    xlabel = 'r [kpc]',\n",
    "    ylabel =r'$\\sigma_r(r)$ [km/s]',\n",
    "    ylim = (0,1),\n",
    ")\n",
    "ax.plot(r_center,np.sqrt(model.dispersion(r_center)),label='analytical')\n",
    "ax.legend()"
   ]
  },
  {
   "cell_type": "code",
   "execution_count": 52,
   "metadata": {},
   "outputs": [],
   "source": [
    "import astropy.units as u\n",
    "# from astropy.units import imperial\n",
    "# imperial.enable()\n",
    "distance = 6400*u.km"
   ]
  },
  {
   "cell_type": "code",
   "execution_count": 59,
   "metadata": {},
   "outputs": [],
   "source": [
    "vel = 100 * u.km/u.day"
   ]
  },
  {
   "cell_type": "code",
   "execution_count": 60,
   "metadata": {},
   "outputs": [
    {
     "name": "stdout",
     "output_type": "stream",
     "text": [
      "64.0 d\n"
     ]
    }
   ],
   "source": [
    "t = distance/vel\n",
    "print(t)"
   ]
  },
  {
   "cell_type": "code",
   "execution_count": null,
   "metadata": {},
   "outputs": [],
   "source": []
  }
 ],
 "metadata": {
  "kernelspec": {
   "display_name": "py10",
   "language": "python",
   "name": "python3"
  },
  "language_info": {
   "codemirror_mode": {
    "name": "ipython",
    "version": 3
   },
   "file_extension": ".py",
   "mimetype": "text/x-python",
   "name": "python",
   "nbconvert_exporter": "python",
   "pygments_lexer": "ipython3",
   "version": "3.10.4"
  },
  "orig_nbformat": 4
 },
 "nbformat": 4,
 "nbformat_minor": 2
}
