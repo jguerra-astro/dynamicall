{
 "cells": [
  {
   "attachments": {},
   "cell_type": "markdown",
   "metadata": {},
   "source": [
    "# Tutorial: Simple Fit\n",
    "\n",
    "This will be the main tutorial for $\\rm dynamicall^{TM}$, a package for fitting dynamical mass models to kinematic data (It does other stuff too) <!-- TODO: Add link to other parts of the documentation -->\n",
    "\n",
    "We'll go over the basics of how to use the package and then go into more detail about how to use the different parts of the package in other tutorials\n",
    "\n",
    "The **default case** for the package assumes that you are trying to fit data from observations of a local group dwarf spheroiodal galaxy i.e. projected positions and line of sight velocities of stars.\n",
    "\n",
    "This means a couple of things regarding defaults values (on the priors).\n",
    "We Assume that the observations which you have are stars which contribute a negligible amount to the total mass of the system i.e. `masslesss' tracers, which are embedded in a dark matter halo.\n",
    "\n",
    "Although you have complete control over the parametrizations and therefore priors which you use, based on previous works we have a set of models and priors which maybe convenient for you to use and which should work with the base case as define above.\n",
    "\n",
    "(If there is a parametrization of some parameter which is not already included it is particularly easy to define a new model which can then be used with dynamicall)\n",
    "\n",
    "*Hopefully there is a tutorial on how to do this.*\n",
    "\n",
    "First start with the imports"
   ]
  },
  {
   "cell_type": "code",
   "execution_count": 1,
   "metadata": {
    "tags": [
     "hide-cell"
    ]
   },
   "outputs": [],
   "source": [
    "%load_ext autoreload\n",
    "%autoreload 2"
   ]
  },
  {
   "cell_type": "code",
   "execution_count": 2,
   "metadata": {
    "tags": [
     "hide-cell"
    ]
   },
   "outputs": [],
   "source": [
    "import os\n",
    "os.environ[\"XLA_FLAGS\"] = '--xla_force_host_platform_device_count=2'\n",
    "import numpyro\n",
    "numpyro.enable_x64()\n",
    "import jax\n",
    "import jax.numpy as jnp\n",
    "from jax._src.config import config\n",
    "config.update(\"jax_enable_x64\", True)"
   ]
  },
  {
   "cell_type": "markdown",
   "metadata": {},
   "source": [
    "## TL;DR"
   ]
  },
  {
   "cell_type": "code",
   "execution_count": null,
   "metadata": {},
   "outputs": [],
   "source": []
  },
  {
   "cell_type": "code",
   "execution_count": 3,
   "metadata": {},
   "outputs": [
    {
     "data": {
      "text/plain": [
       "2"
      ]
     },
     "execution_count": 3,
     "metadata": {},
     "output_type": "execute_result"
    }
   ],
   "source": [
    "jax.local_device_count()"
   ]
  },
  {
   "cell_type": "code",
   "execution_count": 4,
   "metadata": {},
   "outputs": [
    {
     "data": {
      "text/plain": [
       "[CpuDevice(id=0), CpuDevice(id=1)]"
      ]
     },
     "execution_count": 4,
     "metadata": {},
     "output_type": "execute_result"
    }
   ],
   "source": [
    "jax.devices('cpu')"
   ]
  },
  {
   "cell_type": "markdown",
   "metadata": {},
   "source": [
    "You should pretty much always enable double precision when using this package.\n",
    "\n",
    "If it becomes annoying to keep typing it in every notebook, you can add it to your .zshrc file (or whatever appropriate file for your shell)\n",
    "```bash\n",
    "export JAX_ENABLE_X64=True\n",
    "```"
   ]
  },
  {
   "cell_type": "code",
   "execution_count": 5,
   "metadata": {
    "tags": [
     "hide-cell"
    ]
   },
   "outputs": [],
   "source": [
    "import pandas as pd\n",
    "import matplotlib.pyplot as plt\n",
    "# use my stylesheet\n",
    "plt.style.use('/Users/juan/phd/matplotlib/jdefault.mplstyle') # this should be changed something in the repo\n",
    "\n",
    "#sampling and inference\n",
    "# import numpyro\n",
    "from numpyro.diagnostics import hpdi\n",
    "import numpyro.distributions as dist\n",
    "from numpyro import handlers\n",
    "from numpyro.infer import MCMC, NUTS\n",
    "\n",
    "#need to get rid of\n",
    "import numpy as np\n",
    "\n",
    "# project\n",
    "from dynamicAll import models,fit,data\n",
    "from dynamicAll.fit import Fit"
   ]
  },
  {
   "cell_type": "code",
   "execution_count": 6,
   "metadata": {},
   "outputs": [],
   "source": [
    "# First load mock data\n",
    "# TODO: use mock data from the package,you idiot\n",
    "# Lets read in some mock data -- we can also generate fake data for a wide variety of models.\n",
    "dataSet = pd.read_csv('../../notebooks/data/gs010_bs050_rcrs025_rarcinf_cusp_0064mpc3_df_1000_3_err.dat')\n",
    "# Theres no error column in this data set, but we can just add it.\n",
    "error = np.full_like(dataSet['x'],2.0)\n",
    "# append error to dataSet\n",
    "dataSet['error'] = error"
   ]
  },
  {
   "cell_type": "markdown",
   "metadata": {},
   "source": [
    "If only one error is provided I'll assume thats the error for each component of the velocity.\n",
    "Otherwise you should append an error for each component of the velocity. \n",
    "\n",
    "**The naming convention is 'd_' + component name.**\n",
    "\n",
    "**So for example, if you have a velocity component called 'vz' then the error should be called 'd_vz'**\n",
    "\n",
    "**NOTE: If you provide the error for one component, you must supply them for all velocity component**\n",
    "\n",
    "The error on the positions seems to alway be neglected since its usually small so we'll keep ignoring it."
   ]
  },
  {
   "cell_type": "markdown",
   "metadata": {},
   "source": [
    "## 1. The Data class\n",
    "```python\n",
    "from dynamicAll import data\n",
    "```\n",
    "The data module contains a wrapper for your data and comes with several helper functions to visualize the data.\n",
    "This could help with picking a better parametrization for your model if the default ones arent giving great answers or if you are unsure what to use.\n",
    "\n",
    "Currently there are three subclassses of the data class,\n",
    "- MockData\n",
    "- DCJLData <!--TODO: change this to simulation data -->\n",
    "- KeckData\n",
    "\n",
    "Lets start with using mock data"
   ]
  },
  {
   "cell_type": "code",
   "execution_count": 7,
   "metadata": {},
   "outputs": [],
   "source": [
    "system = data.MockData(dataSet)"
   ]
  },
  {
   "cell_type": "markdown",
   "metadata": {},
   "source": [
    "### Spatial data\n",
    "The first thing you might want to do is look at the spatial data and velocity dispersion.\n",
    "This might influence the particular models you pick for the the tracers and the potential -- and if you have proper motions the velocity anisotropy."
   ]
  },
  {
   "cell_type": "code",
   "execution_count": 8,
   "metadata": {},
   "outputs": [
    {
     "data": {
      "image/png": "[encoded data removed]",
      "text/plain": [
       "<Figure size 432x288 with 1 Axes>"
      ]
     },
     "metadata": {
      "needs_background": "light"
     },
     "output_type": "display_data"
    }
   ],
   "source": [
    "R_center,nu = system.spatial_density() # dumb name, should change it.\n",
    "\n",
    "fig,ax = plt.subplots()\n",
    "ax.step(R_center,nu,where='mid')\n",
    "ax.set(\n",
    "    xlabel = 'R [kpc]',\n",
    "    ylabel =r'$\\rm\\Sigma(R)~N~kpc^{-3}$',\n",
    "    xscale = 'log',\n",
    "    yscale = 'log',\n",
    "); "
   ]
  },
  {
   "cell_type": "markdown",
   "metadata": {},
   "source": [
    "#### Preliminary fitting\n",
    "\n",
    "You can try fitting a plummer, or other model to this data.\n",
    "\n",
    "Scipy's curve fit is good enough to do this for a simple model like a plummer sphere.\n",
    "Since the observational data will usually be projected positions, we'll stick to those.\n",
    "\n",
    "In this case we'll fit our projected data to a plummer sphere.\n",
    "\n",
    "```python\n",
    "models.Plummer.projection()\n",
    "```\n",
    "\n",
    "If you want something more -- non parametric, you could\n",
    "1. fit a sum of gaussians to the data -- Thats possible\n",
    "2. Use B-splines to fit the data.\n",
    "\n",
    "Depending on your goals one or the other may prove more useful."
   ]
  },
  {
   "cell_type": "code",
   "execution_count": 9,
   "metadata": {},
   "outputs": [
    {
     "data": {
      "image/png": "[encoded data removed]",
      "text/plain": [
       "<Figure size 432x288 with 1 Axes>"
      ]
     },
     "metadata": {
      "needs_background": "light"
     },
     "output_type": "display_data"
    }
   ],
   "source": [
    "# Define function you want to fit the data to\n",
    "func = models.Plummer._projection\n",
    "# plot curve_fit of curve\n",
    "fig, ax,popt = system.fit_projection(func,p0 = [1e3,0.25])\n",
    "\n",
    "# plot B-spline fit\n",
    "ax.plot(R_center,system.bspline_projected(R_center),\n",
    "    linestyle='-.',\n",
    "    label='B-spline fit')\n",
    "# plot truth\n",
    "ax.plot(R_center,models.Plummer._projection(R_center,1e3,0.25),\n",
    "    label='truth',\n",
    "    linestyle ='--')\n",
    "ax.legend();"
   ]
  },
  {
   "cell_type": "markdown",
   "metadata": {},
   "source": [
    "What may prove more Useful is to use the photometry to fit the photometry in order to calculate the surface brightness profile. The use those constraints in order to put priors on the tracer density profile, or even fix it all together. This part should be well constrained even with a few stars so it shouldnt affect the results very much."
   ]
  },
  {
   "cell_type": "markdown",
   "metadata": {},
   "source": [
    "## Velocity data\n",
    "\n",
    "### Mass Estimator e.g. $\\rm M_{Wolf}$"
   ]
  },
  {
   "cell_type": "markdown",
   "metadata": {},
   "source": [
    "The simplest thing you might want to do with the velocity data is calculate the velocity dispersion (Average velocity dispersion of your data) and calculate a mass estimate at the half-light radius.\n",
    "\n",
    "You can do both \n",
    "```python\n",
    "mean_vdisp = system.velocity_dispersion(component='los')\n",
    "```\n",
    "or\n",
    "```python\n",
    "wolf_mass = system.mass_estimator('Wolf',rhalf= 0.25)\n",
    "```\n",
    "If you prefer a different mass estimator, I've included the \"Walker\" estimator which should give you a similar answer.\n",
    "If you have proper motions, you could use the mass \"Errani\" mass estimator as well\n",
    "\n",
    "Since we're dealing with mock data at the moment we do have all the components so lets estimate all of them"
   ]
  },
  {
   "cell_type": "code",
   "execution_count": 10,
   "metadata": {},
   "outputs": [],
   "source": [
    "# wolf_mass = system.mass_estimator('Wolf',rhalf= 0.25) # If you're data set has rhalf in it. You dont need to supply it, but it'll work either way"
   ]
  },
  {
   "cell_type": "markdown",
   "metadata": {},
   "source": [
    "### velocity dispersion: $\\rm\\sigma_{los}(R)$\n",
    "\n",
    "If you have sufficient data ($N_{\\star}\\sim 10^{3}$) It may be useful to inspect the velocity dispersion as a function of radius.\n",
    "\n",
    "We offer to versions of doing this, Either using binning which works well with a large number of stars, or non-parametrically using B-splines.\n"
   ]
  },
  {
   "cell_type": "markdown",
   "metadata": {},
   "source": [
    "Since we're using mock data we have every component, so lets walk through some of the data products you can make.\n",
    "\n",
    "A simple calculation you can do is the calculate the velocity dispersion as a function of radius.\n",
    "```python\n",
    "system.dispersion(ri,vi,error,component,bin_func,bins)\n",
    "```\n",
    "This returns three things,\n",
    "- r_center\n",
    "- dispersion\n",
    "- dispersion_error\n",
    "\n",
    "If that's too much writing, you can instead call dispersion_i() which takes a component argument and returns the corresponding dispersion.\n",
    "```python\n",
    "system.dispersion_i(component='los')\n",
    "```\n",
    "or if you have 6D data and want to find the dispersion in each of the spherical components\n",
    "- 'radial'\n",
    "- 'theta'\n",
    "- 'phi'\n",
    "\n",
    "or if you have 5D -- 2D spatial data (propjected position \"R\") + 3D  velocity (i.e. proper motions) --- you can calculate the two additional dispersions\n",
    "- 'pmr'\n",
    "- 'pmt'\n",
    "\n",
    "When you first initialize the data class, it'll tell you which components are available."
   ]
  },
  {
   "cell_type": "code",
   "execution_count": 11,
   "metadata": {},
   "outputs": [
    {
     "data": {
      "image/png": "[encoded data removed]",
      "text/plain": [
       "<Figure size 432x288 with 1 Axes>"
      ]
     },
     "metadata": {
      "needs_background": "light"
     },
     "output_type": "display_data"
    }
   ],
   "source": [
    "r_center,dispersion,error = system.dispersion_i(component ='los')\n",
    "\n",
    "# Or if you just want to plot it\n",
    "fig,ax = plt.subplots()\n",
    "system.plot_dispersion_i(component ='los',fig=fig,ax=ax)"
   ]
  },
  {
   "cell_type": "code",
   "execution_count": 12,
   "metadata": {},
   "outputs": [
    {
     "data": {
      "image/png": "[encoded data removed]",
      "text/plain": [
       "<Figure size 432x288 with 1 Axes>"
      ]
     },
     "metadata": {
      "needs_background": "light"
     },
     "output_type": "display_data"
    }
   ],
   "source": [
    "# method 1 \n",
    "r_center, dispersion,error = system.dispersion(system._R,system._vz,system._error)\n",
    "\n",
    "fig,ax = plt.subplots()\n",
    "ax.step(r_center,dispersion,where='mid')\n",
    "ax.errorbar(r_center,dispersion,yerr=error,fmt='none',ecolor='k',elinewidth=1.5)\n",
    "ax.set(\n",
    "    xscale = 'log',\n",
    "    xlabel = 'R [kpc]',\n",
    "    ylabel =r'$\\sigma_{los}$ [km/s]',\n",
    "    ylim   = (0,20),\n",
    ");"
   ]
  },
  {
   "cell_type": "code",
   "execution_count": 13,
   "metadata": {},
   "outputs": [
    {
     "data": {
      "text/plain": [
       "{'los': (Array([8.05904570e-03, 2.48239784e-02, 4.79721953e-02, 7.94142067e-02,\n",
       "         1.52598024e-01, 2.34538584e-01, 3.06581719e-01, 3.81059231e-01,\n",
       "         4.50355973e-01, 5.51219547e-01, 7.09275163e-01, 8.59649211e-01,\n",
       "         1.05203002e+00, 1.38063126e+00, 1.74463689e+00, 2.27819761e+00,\n",
       "         3.47321533e+00, 5.30113787e+00, 1.26862081e+01], dtype=float64),\n",
       "  Array([10.62691229, 12.05868339, 12.12320757, 11.75410151, 11.24697806,\n",
       "         10.80874662, 11.50200159, 11.58121567, 11.70027956, 11.67941459,\n",
       "         11.28565928, 12.52084557, 12.7076298 , 13.37900733, 10.82457669,\n",
       "         13.86709061, 11.47350082,  9.07238275, 10.07115006], dtype=float64),\n",
       "  Array([0.97751279, 0.53211124, 0.31924761, 0.23875125, 0.14306505,\n",
       "         0.19627238, 0.18583755, 0.25914751, 0.25712758, 0.26299807,\n",
       "         0.26984911, 0.49836738, 0.41235863, 0.56973069, 0.64231472,\n",
       "         0.88479392, 0.87067046, 1.12010336, 1.5745384 ], dtype=float64))}"
      ]
     },
     "execution_count": 13,
     "metadata": {},
     "output_type": "execute_result"
    }
   ],
   "source": [
    "system._cached_dispersion"
   ]
  },
  {
   "cell_type": "code",
   "execution_count": 14,
   "metadata": {},
   "outputs": [
    {
     "data": {
      "text/plain": [
       "Array([8.05904570e-03, 2.48239784e-02, 4.79721953e-02, 7.94142067e-02,\n",
       "       1.52598024e-01, 2.34538584e-01, 3.06581719e-01, 3.81059231e-01,\n",
       "       4.50355973e-01, 5.51219547e-01, 7.09275163e-01, 8.59649211e-01,\n",
       "       1.05203002e+00, 1.38063126e+00, 1.74463689e+00, 2.27819761e+00,\n",
       "       3.47321533e+00, 5.30113787e+00, 1.26862081e+01], dtype=float64)"
      ]
     },
     "execution_count": 14,
     "metadata": {},
     "output_type": "execute_result"
    }
   ],
   "source": [
    "system._cached_dispersion['los'][0]"
   ]
  },
  {
   "cell_type": "markdown",
   "metadata": {},
   "source": [
    "## Jeans Modeling"
   ]
  },
  {
   "cell_type": "markdown",
   "metadata": {},
   "source": [
    "```python\n",
    "from dynamicAll import models\n",
    "```\n",
    "models contains all of the built in parameterization of models we will use to fit the data."
   ]
  },
  {
   "cell_type": "markdown",
   "metadata": {},
   "source": [
    "As expected from this mock data, generated from the velocity dispersion profile of Draco, we see that the velocity dispersion is roughly constant with radius at around $12.5\\rm~km~s^{-1}$"
   ]
  },
  {
   "cell_type": "markdown",
   "metadata": {},
   "source": [
    "For our Jeans Modeling we need to initialize our Fit class"
   ]
  },
  {
   "cell_type": "code",
   "execution_count": 15,
   "metadata": {},
   "outputs": [
    {
     "name": "stderr",
     "output_type": "stream",
     "text": [
      "UserWarning: \n",
      "No tracer model defined.\n",
      "Using default Plummer model.\n",
      "\n",
      "UserWarning: \n",
      "No DM model defined.\n",
      "Using default HernquistZhao model.\n",
      "\n",
      "UserWarning: \n",
      "No anisotropy model defined.\n",
      "using default BetaConstant model\n",
      "\n",
      "UserWarning: \n",
      "No priors defined.\n",
      "Using default priors for each model\n"
     ]
    }
   ],
   "source": [
    "fit_cls = Fit()\n",
    "# fit_cls  = Fit(tracer_model,dm_model,anisotropy_model)\n",
    "# output = fit_cls.fit(data=data)"
   ]
  },
  {
   "cell_type": "markdown",
   "metadata": {},
   "source": [
    "If you call it this way you are using the default values for all parameters and priors.\n",
    "This is equivalent to initializing the model as follows:\n",
    "\n",
    "```python\n",
    "priors = fit.Priors()\n",
    "\n",
    "tracer_model     = models.Plummer\n",
    "priors.add_prior('M', dist.LogUniform(1e-2,1e5))\n",
    "priors.add_prior('b', dist.LogUniform(1e-3,1e3))\n",
    "\n",
    "dm_model         = models.HernquistZhao\n",
    "\n",
    "priors.add_prior('rhos', dist.LogUniform(jnp.exp(-2),jnp.exp(5)))\n",
    "priors.add_prior('rs', dist.LogUniform(jnp.exp(-3),jnp.exp(3)))\n",
    "\n",
    "priors.add_prior('a', dist.Uniform(-3,3))\n",
    "priors.add_prior('b', dist.Uniform(.1,3))\n",
    "priors.add_prior('c', dist.Uniform(.1,3))\n",
    "\n",
    "anisotropy_model  = models.BetaConstant\n",
    "priors.add_prior('beta0', dist.Uniform(-5,1))\n",
    "```"
   ]
  },
  {
   "cell_type": "code",
   "execution_count": 16,
   "metadata": {},
   "outputs": [],
   "source": [
    "priors = fit.Priors()\n",
    "\n",
    "tracer_model     = models.Plummer\n",
    "# priors.add_prior('tracer_M', dist.Normal(1e2,1e4))\n",
    "# priors.add_prior('tracer_a', dist.LeftTruncatedDistribution(dist.Normal(.25,.50),0))\n",
    "# priors.add_prior('tracer_a', dist.LogUniform(1e-1,1e0))\n",
    "\n",
    "dm_model         = models.HernquistZhao\n",
    "\n",
    "priors.add_prior('dm_rhos', dist.LogUniform(1e5,1e11))\n",
    "priors.add_prior('dm_rs', dist.LogUniform(1e-2,1e1))\n",
    "\n",
    "priors.add_prior('dm_gamma', dist.Uniform(-2,2))\n",
    "\n",
    "anisotropy_model  = models.BetaConstant\n",
    "# priors.add_prior('beta_0', dist.Uniform(-1,1))"
   ]
  },
  {
   "cell_type": "code",
   "execution_count": 17,
   "metadata": {},
   "outputs": [
    {
     "data": {
      "text/plain": [
       "(Array(0.04978707, dtype=float64, weak_type=True),\n",
       " Array(7.3890561, dtype=float64, weak_type=True))"
      ]
     },
     "execution_count": 17,
     "metadata": {},
     "output_type": "execute_result"
    }
   ],
   "source": [
    "jnp.exp(-3),jnp.exp(2)"
   ]
  },
  {
   "cell_type": "code",
   "execution_count": 18,
   "metadata": {},
   "outputs": [
    {
     "name": "stderr",
     "output_type": "stream",
     "text": [
      "UserWarning: \n",
      "No tracer model defined.\n",
      "Using default Plummer model.\n",
      "\n",
      "UserWarning: \n",
      "No DM model defined.\n",
      "Using default HernquistZhao model.\n",
      "\n",
      "UserWarning: \n",
      "No anisotropy model defined.\n",
      "using default BetaConstant model\n",
      "\n"
     ]
    }
   ],
   "source": [
    "fit_cls = fit.SphGalaxy(priors=priors)"
   ]
  },
  {
   "cell_type": "code",
   "execution_count": 19,
   "metadata": {},
   "outputs": [
    {
     "name": "stdout",
     "output_type": "stream",
     "text": [
      "Parameter: dm_rhos, Distribution: LogUniform, Bounds: (1.00e+05, 1.00e+11)\n",
      "Parameter: dm_rs, Distribution: LogUniform, Bounds: (1.00e-02, 1.00e+01)\n",
      "Parameter: dm_gamma, Distribution: Uniform, Bounds: (-2.00e+00, 2.00e+00)\n"
     ]
    },
    {
     "data": {
      "text/plain": []
     },
     "execution_count": 19,
     "metadata": {},
     "output_type": "execute_result"
    }
   ],
   "source": [
    "fit_cls._priors"
   ]
  },
  {
   "attachments": {},
   "cell_type": "markdown",
   "metadata": {},
   "source": [
    "Because this is our tracer model, we only have to define a prior on the scale radius of the tracer population, but we'll still define a prior on the total \"Mass\" of the tracers, but it's ultimately just the number of tracers.\n",
    "We'll assume a uniform prior on the logarithm of the scale radius, with limits of 0.1 and 10 kpc.\n",
    "There's a somewhat convenient Priors class that we can use to define our priors on each component of our model.\n",
    "The default priors are based on previous authors works,  e.g. [(Chang et. al.)](https://academic.oup.com/mnras/article/507/4/4715/6358538)\n",
    "\n",
    "$$\n",
    "\\begin{array}{lc}\n",
    "\\hline \\text { Parameter } & \\text { Prior } \\\\\n",
    "\\hline \\log _{10}\\left(r_* / \\mathrm{kpc}\\right) & {[-3,3]} \\\\\n",
    "\\log _{10}\\left(L / L_{\\odot}\\right) & {[-2,5]} \\\\\n",
    "\\ln \\left(\\rho_0 /\\left(M_{\\odot} \\mathrm{kpc}^{-3}\\right)\\right) & {[5,30]} \\\\\n",
    "\\left.\\ln \\left(r_s / \\mathrm{kpc}\\right)^{-1}\\right) & {[-10,10]} \\\\\n",
    "\\bar{v} /\\left(\\mathrm{km} \\mathrm{s}^{-1}\\right) & {[-100,100]} \\\\\n",
    "\\gamma & {[-1,5]} \\\\\n",
    "\\hline\n",
    "\\end{array}\n",
    "$$\n"
   ]
  },
  {
   "cell_type": "markdown",
   "metadata": {},
   "source": [
    "The LogUniform distribution is a distribution over positive reals that is uniform in log space. It is useful for fitting parameters that naturally live on a log scale. Note that the distribution is the same regardless of the base of the logarithm."
   ]
  },
  {
   "cell_type": "code",
   "execution_count": 23,
   "metadata": {},
   "outputs": [
    {
     "data": {
      "application/vnd.jupyter.widget-view+json": {
       "model_id": "9fb81c1f5f344a55b31a9f84d6cd25ca",
       "version_major": 2,
       "version_minor": 0
      },
      "text/plain": [
       "  0%|          | 0/5000 [00:00<?, ?it/s]"
      ]
     },
     "metadata": {},
     "output_type": "display_data"
    },
    {
     "data": {
      "application/vnd.jupyter.widget-view+json": {
       "model_id": "0dec6e36422b4bad83ed29911fc1c782",
       "version_major": 2,
       "version_minor": 0
      },
      "text/plain": [
       "  0%|          | 0/5000 [00:00<?, ?it/s]"
      ]
     },
     "metadata": {},
     "output_type": "display_data"
    }
   ],
   "source": [
    "mcmc = fit_cls.fit_dSph(\n",
    "            data=system,\n",
    "            num_chains=2,\n",
    "            num_samples=4000)"
   ]
  },
  {
   "cell_type": "markdown",
   "metadata": {},
   "source": [
    "If you're running this on your laptop -- you may get a warning about the number of cores you're using. \n",
    "You can ignore this for now, although if you find the time to run this becoming large you may consider using a cluster with GPUs or TPUs to speed up the fitting process.\n",
    "\n",
    "We'll user arviz and corner to visualize the results of our fit.\n",
    "However, if you just want the samples you can write\n",
    "\n",
    "```python\n",
    "samples = mcmc.get_samples()\n",
    "```\n",
    "\n",
    "```python"
   ]
  },
  {
   "cell_type": "code",
   "execution_count": null,
   "metadata": {},
   "outputs": [
    {
     "data": {
      "text/html": [
       "<div>\n",
       "<style scoped>\n",
       "    .dataframe tbody tr th:only-of-type {\n",
       "        vertical-align: middle;\n",
       "    }\n",
       "\n",
       "    .dataframe tbody tr th {\n",
       "        vertical-align: top;\n",
       "    }\n",
       "\n",
       "    .dataframe thead th {\n",
       "        text-align: right;\n",
       "    }\n",
       "</style>\n",
       "<table border=\"1\" class=\"dataframe\">\n",
       "  <thead>\n",
       "    <tr style=\"text-align: right;\">\n",
       "      <th></th>\n",
       "      <th>mean</th>\n",
       "      <th>sd</th>\n",
       "      <th>hdi_3%</th>\n",
       "      <th>hdi_97%</th>\n",
       "      <th>mcse_mean</th>\n",
       "      <th>mcse_sd</th>\n",
       "      <th>ess_bulk</th>\n",
       "      <th>ess_tail</th>\n",
       "      <th>r_hat</th>\n",
       "    </tr>\n",
       "  </thead>\n",
       "  <tbody>\n",
       "    <tr>\n",
       "      <th>dm_gamma</th>\n",
       "      <td>5.600000e-01</td>\n",
       "      <td>5.680000e-01</td>\n",
       "      <td>-5.840000e-01</td>\n",
       "      <td>1.380000e+00</td>\n",
       "      <td>0.020</td>\n",
       "      <td>0.014</td>\n",
       "      <td>856.0</td>\n",
       "      <td>1109.0</td>\n",
       "      <td>1.0</td>\n",
       "    </tr>\n",
       "    <tr>\n",
       "      <th>dm_rhos</th>\n",
       "      <td>1.192958e+08</td>\n",
       "      <td>7.722985e+07</td>\n",
       "      <td>2.458772e+07</td>\n",
       "      <td>2.713866e+08</td>\n",
       "      <td>2670294.344</td>\n",
       "      <td>1888842.013</td>\n",
       "      <td>855.0</td>\n",
       "      <td>1116.0</td>\n",
       "      <td>1.0</td>\n",
       "    </tr>\n",
       "    <tr>\n",
       "      <th>dm_rs</th>\n",
       "      <td>8.600000e-01</td>\n",
       "      <td>3.180000e-01</td>\n",
       "      <td>3.790000e-01</td>\n",
       "      <td>1.380000e+00</td>\n",
       "      <td>0.011</td>\n",
       "      <td>0.008</td>\n",
       "      <td>847.0</td>\n",
       "      <td>1087.0</td>\n",
       "      <td>1.0</td>\n",
       "    </tr>\n",
       "  </tbody>\n",
       "</table>\n",
       "</div>"
      ],
      "text/plain": [
       "                  mean            sd        hdi_3%       hdi_97%    mcse_mean  \\\n",
       "dm_gamma  5.600000e-01  5.680000e-01 -5.840000e-01  1.380000e+00        0.020   \n",
       "dm_rhos   1.192958e+08  7.722985e+07  2.458772e+07  2.713866e+08  2670294.344   \n",
       "dm_rs     8.600000e-01  3.180000e-01  3.790000e-01  1.380000e+00        0.011   \n",
       "\n",
       "              mcse_sd  ess_bulk  ess_tail  r_hat  \n",
       "dm_gamma        0.014     856.0    1109.0    1.0  \n",
       "dm_rhos   1888842.013     855.0    1116.0    1.0  \n",
       "dm_rs           0.008     847.0    1087.0    1.0  "
      ]
     },
     "execution_count": 36,
     "metadata": {},
     "output_type": "execute_result"
    }
   ],
   "source": [
    "import arviz as az\n",
    "\n",
    "inf_data = az.from_numpyro(mcmc)\n",
    "az.summary(inf_data)"
   ]
  },
  {
   "cell_type": "code",
   "execution_count": null,
   "metadata": {},
   "outputs": [
    {
     "data": {
      "image/png": "[encoded data removed]",
      "text/plain": [
       "<Figure size 720x720 with 9 Axes>"
      ]
     },
     "metadata": {
      "needs_background": "light"
     },
     "output_type": "display_data"
    }
   ],
   "source": [
    "import corner\n",
    "fig,ax = plt.subplots(ncols=3,nrows=3,figsize=(10,10))\n",
    "\n",
    "corner.corner(inf_data,fig=fig,\n",
    "            quantiles=[0.16, 0.5, 0.84],\n",
    "            show_titles=True,\n",
    "            # title_fmt='.2e',\n",
    "            truths=[1,6.4e7,1]);\n",
    "\n",
    "# ax[2,1].set(\n",
    "    # xlim=(1e5,1e8),\n",
    "    # xscale='log'\n",
    "# )\n",
    "# ax = ax.flatten()\n",
    "# ax[3].set(\n",
    "#     yscale='log'\n",
    "# )\n",
    "# ax[7].set(\n",
    "#     xscale='log'\n",
    "# )"
   ]
  },
  {
   "cell_type": "markdown",
   "metadata": {},
   "source": []
  },
  {
   "attachments": {},
   "cell_type": "markdown",
   "metadata": {},
   "source": [
    "Now output is itself a class, with various convenience methods that will plot the results "
   ]
  }
 ],
 "metadata": {
  "kernelspec": {
   "display_name": "py10",
   "language": "python",
   "name": "python3"
  },
  "language_info": {
   "codemirror_mode": {
    "name": "ipython",
    "version": 3
   },
   "file_extension": ".py",
   "mimetype": "text/x-python",
   "name": "python",
   "nbconvert_exporter": "python",
   "pygments_lexer": "ipython3",
   "version": "3.10.4"
  },
  "orig_nbformat": 4
 },
 "nbformat": 4,
 "nbformat_minor": 2
}
