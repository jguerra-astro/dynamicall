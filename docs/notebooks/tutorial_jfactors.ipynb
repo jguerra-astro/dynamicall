{
 "cells": [
  {
   "cell_type": "markdown",
   "metadata": {},
   "source": [
    "# Tutorial: J-Factors"
   ]
  },
  {
   "cell_type": "markdown",
   "metadata": {},
   "source": [
    "## Goals\n",
    "1. Calculate the J-factor for a given density profile \n",
    "2. Forecast uncertentanties on the J-factor from uncertainties on the density parameters"
   ]
  },
  {
   "cell_type": "code",
   "execution_count": 1,
   "metadata": {
    "tags": [
     "hide-cell"
    ]
   },
   "outputs": [],
   "source": [
    "%load_ext autoreload\n",
    "%autoreload 2"
   ]
  },
  {
   "cell_type": "code",
   "execution_count": 2,
   "metadata": {
    "tags": [
     "hide-cell"
    ]
   },
   "outputs": [],
   "source": [
    "# Imports\n",
    "\n",
    "# third party\n",
    "import jax\n",
    "import jax.numpy as jnp\n",
    "from jax._src.config import config\n",
    "import matplotlib.pyplot as plt \n",
    "config.update(\"jax_enable_x64\", True)\n",
    "import pandas as pd\n",
    "\n",
    "import numpyro\n",
    "from numpyro.diagnostics import hpdi\n",
    "import numpyro.distributions as dist\n",
    "from numpyro import handlers\n",
    "from numpyro.infer import MCMC, NUTS\n",
    "\n",
    "\n",
    "import astropy.constants as const\n",
    "import astropy.units as u\n",
    "\n",
    "#need to get rid of\n",
    "import numpy as np\n",
    "\n",
    "# project\n",
    "from dynamicAll import models"
   ]
  },
  {
   "cell_type": "markdown",
   "metadata": {},
   "source": [
    "## TL;DR\n",
    "\n",
    "$$\n",
    "J(\\Delta\\Omega |\\Phi_{\\rm dm},D,r_{\\rm tidal}) = \\int_{\\Delta\\Omega} \\int_{\\rm los} \\rho^2(r) dl d\\Omega\n",
    "$$"
   ]
  },
  {
   "cell_type": "markdown",
   "metadata": {},
   "source": [
    "1. Define your dark matter density/potential model.\n",
    "We'll use a Hernquist-Zhao profile with NFW-equivalent parameters.\n"
   ]
  },
  {
   "cell_type": "code",
   "execution_count": 3,
   "metadata": {},
   "outputs": [],
   "source": [
    "param_dict = {\n",
    "    'rhos' : 6.4e7,\n",
    "    'rs'   : 1.0,\n",
    "    'a'    : 1.0,\n",
    "    'b'    : 1.0,\n",
    "    'c'    : 3.0,\n",
    "    }\n",
    "\n",
    "halo = models.HernquistZhao(**param_dict)"
   ]
  },
  {
   "cell_type": "markdown",
   "metadata": {},
   "source": [
    "2. Define **distance** to your system and **tidal radius** for the Halo.\n",
    "(or maybe just $r_{200}$??)"
   ]
  },
  {
   "cell_type": "code",
   "execution_count": 4,
   "metadata": {},
   "outputs": [
    {
     "name": "stdout",
     "output_type": "stream",
     "text": [
      "25.568161066713017\n"
     ]
    }
   ],
   "source": [
    "r200 = halo.r200()\n",
    "print(r200)"
   ]
  },
  {
   "cell_type": "markdown",
   "metadata": {},
   "source": [
    "This might be a more relevant quantity if you're not thinking about MW satellites.\n",
    "If you are then the term needed is the tidal radius. In which case you also need to define the distance from MW to the satellite."
   ]
  },
  {
   "cell_type": "code",
   "execution_count": 5,
   "metadata": {},
   "outputs": [
    {
     "name": "stdout",
     "output_type": "stream",
     "text": [
      "11.66805102699065\n"
     ]
    }
   ],
   "source": [
    "D_mw = 100 # [kpc]\n",
    "rtidal = halo.rtidal(D_mw)\n",
    "print(rtidal)"
   ]
  },
  {
   "cell_type": "code",
   "execution_count": 6,
   "metadata": {},
   "outputs": [],
   "source": [
    "d_dracoish  = 50.0    # So I can compare to Chang et. al. 2020\n",
    "rt_dracoish = 25.54  # kpc (r_200-ish for these scale density/radius values)"
   ]
  },
  {
   "cell_type": "markdown",
   "metadata": {},
   "source": [
    "3. Set the angle enclosed usually $\\theta = 0.5\\degree$."
   ]
  },
  {
   "cell_type": "code",
   "execution_count": 7,
   "metadata": {},
   "outputs": [],
   "source": [
    "theta0 = (0.5 * u.deg).to(u.rad).value # rad"
   ]
  },
  {
   "cell_type": "markdown",
   "metadata": {},
   "source": [
    "the functions for the J-factor and D-factor are just `jFactor` and `dFactor`\n",
    "\n",
    "By Default, these will print out in units of $\\log_{10}\\left(\\rm J/[GeV^2~cm^{-5}]\\right)$ and  $\\log_{10}\\left(\\rm J/[GeV~cm^{-2}]\\right)$ respectively"
   ]
  },
  {
   "cell_type": "code",
   "execution_count": 8,
   "metadata": {},
   "outputs": [],
   "source": [
    "J = halo.jFactor(theta0,d_dracoish,r200)\n",
    "D = halo.dFactor(theta0,d_dracoish,r200)"
   ]
  },
  {
   "cell_type": "code",
   "execution_count": 9,
   "metadata": {},
   "outputs": [
    {
     "name": "stdout",
     "output_type": "stream",
     "text": [
      "19.30357443175167\n",
      "18.62579304670184\n"
     ]
    }
   ],
   "source": [
    "print(J)\n",
    "print(D)"
   ]
  },
  {
   "cell_type": "markdown",
   "metadata": {},
   "source": [
    "This matches the results from [Chang et al. 2018](https://arxiv.org/abs/1803.03262)"
   ]
  },
  {
   "cell_type": "markdown",
   "metadata": {},
   "source": [
    "## Methods\n",
    "J-factor\n",
    "\n",
    "$$\n",
    "J= \\int_{} \\int_{\\rm los} \\rho^{2}(r) d\\Omega dl\n",
    "$$\n",
    "\n",
    "In order to calculate the integral numerically, we'll rewrite it a slightly more useful form\n",
    "\n",
    "Start by definiing $r^2=\\ell^2+D^2-2 \\ell D \\cos \\theta$ and $d\\Omega=2\\pi\\sin\\theta d\\theta$.\n",
    "Here D is the distance to the system.\n",
    "\n",
    "The bounds on the line of sight are $\\ell_{ \\pm}=D \\cos \\theta \\pm \\sqrt{r_t^2-D^2 \\sin ^2 \\theta}$.\n",
    "where $r_t$ is the tidal radius of the system. \n",
    "\n",
    "substituting in the integral we get\n",
    "\n",
    "$$\n",
    "J(\\theta_{\\rm max}) = 2 \\pi \\int_{0}^{\\theta_{\\rm max}}\\sin\\theta d\\theta \\int_{\\ell_{-}}^{\\ell_{+}} \\left[\\rho\\left(\\sqrt{\\ell^2+D^2-2 \\ell D \\cos \\theta}\\right)\\right]^{2} d\\ell .\n",
    "$$"
   ]
  },
  {
   "cell_type": "markdown",
   "metadata": {},
   "source": [
    "To be consistent perhaps we should follow [Evans et. al. 2004](https://journals.aps.org/prd/pdf/10.1103/PhysRevD.69.123501), where $r_t$ comes from\n",
    "this equation\n",
    "\n",
    "$$\n",
    "\\frac{M_{\\mathrm{dSph}}\\left(r_t\\right)}{r_t^3}\n",
    "=\\frac{M_{\\mathrm{MW}}\\left(r_{\\mathrm{dSph}}-r_t\\right)}{\\left(r_{\\mathrm{dSph}}-r_t\\right)^3}.\n",
    "$$\n",
    "\n",
    "where $r_{\\mathrm{dSph}}$ is the distance between th MW and the dSph.\n",
    "This is slightly more annoying to handle...forecasting wise.\n",
    "Mostly cause we would have to write down $M_{\\rm MW}(r)$\n",
    "\n",
    "However, we can just use the Halo component of the MW, which will make this calculation a lot simpler.\n",
    "We can check to make sure our answer doesnt change very much.\n",
    "\n",
    "using $r_{200}$ works just as well and you get almost the same answer (see below)."
   ]
  },
  {
   "cell_type": "markdown",
   "metadata": {},
   "source": [
    "## Sanity check\n",
    "In [Evans et. al. 2016](https://ui.adsabs.harvard.edu/abs/2016PhRvD..93j3512E/abstract), they derive an analytical expression for the J-factor of a NFW profile.\n",
    "\n",
    "This is using the approximation that $d\\Omega d\\mathcal{l} =\\frac{2πRdRdz}{D^{2}}$, i.e. integrate over a cylinder instead of a cone.However they show that this is a good approximation even for the neartest dSphs at $D\\sim 20-30$ kpc.\n",
    "\n",
    "In this limit you can write down \n",
    "\n",
    "$$\n",
    "\\mathrm{J(\\theta | D,\\rho_s,r_s)}\n",
    "=\\frac{\\pi \\rho_0^2 r_{\\mathrm{s}}^3}{3 D^2 \\Delta^4}\\left[2 y\\left(7 y-4 y^3+3 \\pi \\Delta^4\\right)\\right.\\left.+6\\left(2 \\Delta^6-2 \\Delta^2-y^4\\right) X(y)\\right]\n",
    "$$\n",
    "\n",
    "where $y=\\frac{D\\theta}{r_s}$, $\\Delta=\\sqrt{1-y^2}$ and\n",
    "\n",
    "$$\n",
    "X(s)= \\begin{cases}\\frac{1}{\\sqrt{1-s^2}} \\operatorname{Arcsech} s, & 0 \\leq s \\leq 1 \\\\ \\frac{1}{\\sqrt{s^2-1}} \\operatorname{Arcsec} s, & s \\geq 1.\\end{cases}\n",
    "$$\n",
    "\n",
    "Below We compare the results of this analytical expression to our numerical calculation."
   ]
  },
  {
   "cell_type": "markdown",
   "metadata": {},
   "source": [
    "Another simple check:\n",
    "\n",
    "$$\n",
    "\\lim_{\\theta\\to\\infty} J(\\theta)= \\frac{4\\pi}{3}\\frac{\\rho_s^2 r_s^3}{D^2}\n",
    "$$"
   ]
  },
  {
   "cell_type": "code",
   "execution_count": 10,
   "metadata": {
    "tags": [
     "hide-input"
    ]
   },
   "outputs": [],
   "source": [
    "def chi(s):\n",
    "    '''\n",
    "    Overkill at the moment,but in case I want to make it more complicated later.\n",
    "    Also note the use of jax.lax.cond.\n",
    "    To be Tested: is this still differentiable?\n",
    "\n",
    "    Parameters\n",
    "    ----------\n",
    "    s : _type_\n",
    "        _description_\n",
    "    '''\n",
    "    def s_lt_one():\n",
    "        return jnp.arccosh(1/s)/jnp.sqrt(1-s**2)\n",
    "\n",
    "    def s_gt_one():\n",
    "        return jnp.arccos(1/s)/jnp.sqrt(s**2-1)\n",
    "\n",
    "    def s_eq_one():\n",
    "        return 1.0\n",
    "    return jax.lax.cond(s< 1, s_lt_one, lambda: jax.lax.cond(s>1, s_gt_one, s_eq_one))\n",
    "    \n",
    "chiv = jax.vmap(chi)\n",
    "\n",
    "def J_analytic(theta,rhos,rs,D,rt):\n",
    "    y = D*theta/rs\n",
    "    Delta2 = 1.0 - y**2\n",
    "\n",
    "    coeff = jnp.pi*rhos**2*rs**3/(3*D**2*Delta2**2)\n",
    "    term1 = 2*y*(7*y -4*y**3 + 3*jnp.pi*Delta2**2)\n",
    "    term2 = 6*(2*Delta2**3 - 2*Delta2 -y**4)*chiv(y)\n",
    "\n",
    "    return coeff*(term1+term2)\n",
    "\n",
    "def J_asymptotic(theta,rhos,rs,rt):\n",
    "    J_ =  (4/3)*jnp.pi* rhos**2 *rs**3/rt**2\n",
    "    J_ = (J_*u.solMass**2/u.kpc**5 *const.c**4).to(u.GeV**2/u.cm**5)\n",
    "    return jnp.log10(J_.value)\n",
    "\n",
    "logJ_asymptotic = J_asymptotic(theta0,param_dict['rhos'],param_dict['rs'],d_dracoish)\n"
   ]
  },
  {
   "cell_type": "code",
   "execution_count": 11,
   "metadata": {},
   "outputs": [],
   "source": [
    "theta = (jnp.linspace(1e-2,2,100)*u.deg).to(u.rad).value\n",
    "j_vec = jax.vmap(models.HernquistZhao._jFactor, in_axes=(0, None,None,None))\n",
    "jvec3 =  j_vec(theta,param_dict,d_dracoish,rtidal)\n",
    "jvec4 =  j_vec(theta,param_dict,d_dracoish,r200)"
   ]
  },
  {
   "cell_type": "code",
   "execution_count": 12,
   "metadata": {
    "tags": [
     "hide-input"
    ]
   },
   "outputs": [
    {
     "data": {
      "image/png": "[encoded data removed]",
      "text/plain": [
       "<Figure size 1008x360 with 2 Axes>"
      ]
     },
     "metadata": {
      "needs_background": "light"
     },
     "output_type": "display_data"
    }
   ],
   "source": [
    "# plt.style.use('/users/Juan/phd/matplotlib/jdefault.mplstyle')\n",
    "r = jnp.logspace(-2,1)\n",
    "fig,ax = plt.subplots(ncols=2,figsize=(14,5))\n",
    "ax[0].plot(r,halo.density(r))\n",
    "ax[0].set(\n",
    "    xscale= 'log',\n",
    "    yscale= 'log',\n",
    "    xlabel= r'$r$ [kpc]',\n",
    "    ylabel= r'$\\rho(r)~[\\rm M_{\\odot} kpc^{-3}]$',\n",
    ");\n",
    "\n",
    "ax[1].plot(((theta)*u.rad).to(u.deg).value,jnp.log10((J_analytic(theta,param_dict['rhos'],param_dict['rs'],d_dracoish,rt_dracoish)*u.solMass**2/u.kpc**5 *const.c**4).to(u.GeV**2/u.cm**5).value),\n",
    "            label='Analytical')\n",
    "ax[1].plot(((theta)*u.rad).to(u.deg).value,jvec3,linestyle='--',color='pink',label=r'Dynamicall $(r_{\\rm tidal})$')\n",
    "ax[1].plot(((theta)*u.rad).to(u.deg).value,jvec4,linestyle='-.',color='orange',label = r'Dynamicall $(r_{200})$')\n",
    "ax[1].axhline(logJ_asymptotic,\n",
    "            linestyle='--',\n",
    "            color='gray',\n",
    "            label=r'$\\lim_{\\theta\\to\\infty}~J$')\n",
    "ax[1].set(\n",
    "    xlabel= r'$\\theta$ [deg]',\n",
    "    ylabel= r'$\\log_{10}\\left[\\rm~J(\\theta)/\\rm GeV^2 cm^{-5}\\right]$',\n",
    "    # xscale='log'\n",
    ");\n",
    "ax[1].legend();"
   ]
  },
  {
   "cell_type": "markdown",
   "metadata": {},
   "source": [
    "Results between the two methods agree!"
   ]
  },
  {
   "cell_type": "markdown",
   "metadata": {},
   "source": [
    "## Inference\n",
    "\n",
    "If you need to do some sort of inference/MCMC then you'd want to instead use the \"Internal functions\" i.e. class methods.\n",
    "The only diffrerence will be an _ at the beginning of the function name, and that it takes an additional parameter param_dict.\n",
    "This function will work within a numpyro model."
   ]
  },
  {
   "cell_type": "code",
   "execution_count": 13,
   "metadata": {},
   "outputs": [],
   "source": [
    "from dynamicAll.models import HernquistZhao\n",
    "J_factor = HernquistZhao._jFactor(theta0,param_dict, d_dracoish,rt_dracoish)"
   ]
  },
  {
   "cell_type": "markdown",
   "metadata": {},
   "source": [
    "## Forecasting \n",
    "... coming soon "
   ]
  },
  {
   "cell_type": "code",
   "execution_count": null,
   "metadata": {},
   "outputs": [],
   "source": []
  }
 ],
 "metadata": {
  "kernelspec": {
   "display_name": "py10",
   "language": "python",
   "name": "python3"
  },
  "language_info": {
   "codemirror_mode": {
    "name": "ipython",
    "version": 3
   },
   "file_extension": ".py",
   "mimetype": "text/x-python",
   "name": "python",
   "nbconvert_exporter": "python",
   "pygments_lexer": "ipython3",
   "version": "3.10.4"
  },
  "orig_nbformat": 4
 },
 "nbformat": 4,
 "nbformat_minor": 2
}
